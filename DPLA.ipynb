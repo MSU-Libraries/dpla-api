{
 "cells": [
  {
   "cell_type": "markdown",
   "metadata": {},
   "source": [
    "## Using the DPLA API"
   ]
  },
  {
   "cell_type": "markdown",
   "metadata": {},
   "source": [
    "Code to interact with the DPLA API. Designed specifically to produce output suited to further, manual data entry, for eventual conversion to RDF according to the [Collex standard](http://wiki.collex.org/index.php/Main_Page)."
   ]
  },
  {
   "cell_type": "markdown",
   "metadata": {},
   "source": [
    "### Search DPLA and return results as tsv file"
   ]
  },
  {
   "cell_type": "code",
   "execution_count": 2,
   "metadata": {
    "collapsed": false,
    "scrolled": true
   },
   "outputs": [
    {
     "name": "stdout",
     "output_type": "stream",
     "text": [
      "Query: '\"american indian movement\"' returned 529 results\n",
      "----Accessing results page 2\n",
      "----Check: 529 records transferred\n",
      "Completed writing data/radicalism-dpla.tsv\n"
     ]
    }
   ],
   "source": [
    "from dpla_api import DplaApi\n",
    "\n",
    "# Quoted search terms should be put inside double quotes, then single quotes.\n",
    "# For example: '\"civil rights\"'\n",
    "search_term = '\"american indian movement\"'\n",
    "fields = []\n",
    "\n",
    "da = DplaApi()\n",
    "# Run search, page_size is capped (by DPLA) at 500, but code will iterate through \n",
    "# as many pages as necessary to gather all results.\n",
    "da.search(search_term, page_size=500, fields=fields) \n",
    "# All retrieved results will be stored in the da.metadata_records object.\n",
    "da.build_arc_rdf_dataset(check_match=False)\n",
    "da.create_tsv()"
   ]
  },
  {
   "cell_type": "markdown",
   "metadata": {},
   "source": [
    "#### Check values within results. (Not usually necessary)"
   ]
  },
  {
   "cell_type": "code",
   "execution_count": null,
   "metadata": {
    "collapsed": false,
    "scrolled": false
   },
   "outputs": [],
   "source": [
    "errors = 0\n",
    "for r in da.all_returned_items:\n",
    "    if \"subject\" in r[\"sourceResource\"]:\n",
    "        for s in r[\"sourceResource\"][\"subject\"]:\n",
    "            if \"name\" not in s:\n",
    "                errors += 1\n",
    "                print r[\"sourceResource\"][\"subject\"]\n",
    "                print r\n",
    "            \n",
    "print errors"
   ]
  },
  {
   "cell_type": "markdown",
   "metadata": {
    "collapsed": false
   },
   "source": [
    "### Transform TSV records to RDF\n",
    "\n",
    "Once complete with any necessary changes, the tsv file can be used to create RDF records."
   ]
  },
  {
   "cell_type": "code",
   "execution_count": 1,
   "metadata": {
    "collapsed": false,
    "scrolled": false
   },
   "outputs": [
    {
     "name": "stdout",
     "output_type": "stream",
     "text": [
      "Processing 158 records...\n",
      "Processed 158 records\n"
     ]
    }
   ],
   "source": [
    "from buildrdf import BuildRdf\n",
    "\n",
    "input_path = \"data/radicalism-dpla.tsv\"\n",
    "output_path = \"rdf/testtill.rdf\"\n",
    "\n",
    "br = BuildRdf(archive=\"dpla\")\n",
    "br.build_rdf_from_tsv(input_path, output_path, records_per_file=500) # first input file, then output file."
   ]
  },
  {
   "cell_type": "markdown",
   "metadata": {},
   "source": [
    "The code below is an implementation for running a specific set of searches drawn from a json file."
   ]
  },
  {
   "cell_type": "code",
   "execution_count": null,
   "metadata": {
    "collapsed": false
   },
   "outputs": [],
   "source": [
    "from dpla_api import DplaApi\n",
    "import json\n",
    "da = DplaApi()\n",
    "with open(\"mich-results.json\") as f:\n",
    "    data = json.load(f)\n",
    "da.create_tsv(records=data)"
   ]
  },
  {
   "cell_type": "code",
   "execution_count": null,
   "metadata": {
    "collapsed": false
   },
   "outputs": [],
   "source": [
    "import json\n",
    "with open(\"mich-results.json\", \"w\") as f:\n",
    "    json.dump(da.metadata_records, f)"
   ]
  },
  {
   "cell_type": "code",
   "execution_count": null,
   "metadata": {
    "collapsed": false
   },
   "outputs": [],
   "source": [
    "from dpla_api import DplaApi\n",
    "import json\n",
    "da = DplaApi()\n",
    "all_metadata = []\n",
    "search_file = \"data/dpla_subjects.json\"\n",
    "with open(search_file) as f:\n",
    "    search_terms = json.load(f)\n",
    "# Disciplines, in this case, is an extra data point useful for creating\n",
    "# the brand of RDF used in the SiRO project.\n",
    "for search_term, disciplines in search_terms.items():\n",
    "    if len(da.metadata_records) > 10000:\n",
    "        break\n",
    "    else:\n",
    "        da.search(search_term, page_size=500)\n",
    "        if da.result.count > 0:\n",
    "            da.build_arc_rdf_dataset(disciplines=disciplines)\n",
    "            # all_metadata += da.metadata_records\n",
    "# Create a TSV file of output for closer analysis / update of terms.\n",
    "da.create_tsv(records=da.metadata_records)"
   ]
  },
  {
   "cell_type": "markdown",
   "metadata": {},
   "source": [
    "In order to make sure each successive bath of DPLA results doesn't simply reintroduce the results of any previous batches, there is a listing of all previously encountered results stored in a JSON file. An on-the-fly version is updated with searches as they complete, _however_ this cache should be cleared if these search results don't wind up making it into RDF records, by using the `reset_matches` parameter below."
   ]
  },
  {
   "cell_type": "code",
   "execution_count": null,
   "metadata": {
    "collapsed": false
   },
   "outputs": [],
   "source": [
    "from dpla_api import DplaApi\n",
    "da = DplaApi()\n",
    "da.update_rdf_registry(reset_matches=True)"
   ]
  },
  {
   "cell_type": "code",
   "execution_count": null,
   "metadata": {
    "collapsed": false
   },
   "outputs": [],
   "source": [
    "# Build json file of search terms.\n",
    "import json\n",
    "subject_file = \"data/estc_subjects.tsv\"\n",
    "subject_dict = {}\n",
    "with open(subject_file) as f:\n",
    "    for line in f:\n",
    "        values = line.split(\"\\t\")\n",
    "        if values[1] == \"x\":\n",
    "            subject_dict[values[0]] = values[2]\n",
    "with open(\"data/dpla_subjects.json\", \"w\") as g:\n",
    "    json.dump(subject_dict, g)"
   ]
  },
  {
   "cell_type": "code",
   "execution_count": null,
   "metadata": {
    "collapsed": false
   },
   "outputs": [],
   "source": [
    "da._marc_record(da.all_returned_items[0])"
   ]
  },
  {
   "cell_type": "code",
   "execution_count": null,
   "metadata": {
    "collapsed": false
   },
   "outputs": [],
   "source": [
    "for item in da.all_returned_items:\n",
    "    if da._get_genre_from_marc(item) != \"none\":\n",
    "        print da._get_genre_from_marc(item)"
   ]
  },
  {
   "cell_type": "code",
   "execution_count": 8,
   "metadata": {
    "collapsed": false
   },
   "outputs": [
    {
     "data": {
      "text/plain": [
       "{u'@context': u'http://dp.la/api/items/context',\n",
       " u'@id': u'http://dp.la/api/items/a034909614a958902175e02e0a305354',\n",
       " u'@type': u'ore:Aggregation',\n",
       " u'aggregatedCHO': u'#sourceResource',\n",
       " u'dataProvider': u'United States Government Publishing Office (GPO)',\n",
       " u'id': u'a034909614a958902175e02e0a305354',\n",
       " u'ingestDate': u'2020-02-03T16:51:10.618Z',\n",
       " u'ingestType': u'item',\n",
       " u'isShownAt': u'http://catalog.gpo.gov/F/?func=direct&doc_number=001109560&format=999',\n",
       " u'object': u'http://fdlp.gov/images/gpo-tn.jpg',\n",
       " u'originalRecord': {u'stringValue': u'<record \\nxmlns=\"http://www.openarchives.org/OAI/2.0/\" xmlns:xsi=\"http://www.w3.org/2001/XMLSchema-instance\">\\n  <header>\\n    <identifier>oai:catalog.gpo.gov:GPO01-001109560</identifier>\\n    <datestamp>2019-11-08T00:33:06Z</datestamp>\\n    <setSpec>PURL_ALL</setSpec>\\n  </header>\\n  <metadata>\\n    <marc:record \\n    xsi:schemaLocation=\"http://www.loc.gov/MARC21/slim http://www.loc.gov/standards/marcxml/schema/MARC21slim.xsd\" xmlns:marc=\"http://www.loc.gov/MARC21/slim\" xmlns:xsi=\"http://www.w3.org/2001/XMLSchema-instance\">\\n      <marc:leader> cam 2200469 i 4500</marc:leader>\\n      <marc:controlfield tag=\"001\">001109560</marc:controlfield>\\n      <marc:controlfield tag=\"005\">20191107151638.0</marc:controlfield>\\n      <marc:controlfield tag=\"006\">m o d f</marc:controlfield>\\n      <marc:controlfield tag=\"007\">cr |||||||||||</marc:controlfield>\\n      <marc:controlfield tag=\"008\">\\n        191107s2019    dcu     ob   f000 0 eng c\\n      </marc:controlfield>\\n      <marc:datafield tag=\"035\" ind1=\" \" ind2=\" \">\\n        <marc:subfield code=\"a\">(OCoLC)1126666797</marc:subfield>\\n      </marc:datafield>\\n      <marc:datafield tag=\"040\" ind1=\" \" ind2=\" \">\\n        <marc:subfield code=\"a\">GPO</marc:subfield>\\n        <marc:subfield code=\"b\">eng</marc:subfield>\\n        <marc:subfield code=\"e\">rda</marc:subfield>\\n        <marc:subfield code=\"e\">pn</marc:subfield>\\n        <marc:subfield code=\"c\">GPO</marc:subfield>\\n        <marc:subfield code=\"d\">GPO</marc:subfield>\\n      </marc:datafield>\\n      <marc:datafield tag=\"042\" ind1=\" \" ind2=\" \">\\n        <marc:subfield code=\"a\">pcc</marc:subfield>\\n      </marc:datafield>\\n      <marc:datafield tag=\"043\" ind1=\" \" ind2=\" \">\\n        <marc:subfield code=\"a\">n-us---</marc:subfield>\\n      </marc:datafield>\\n      <marc:datafield tag=\"050\" ind1=\" \" ind2=\"4\">\\n        <marc:subfield code=\"a\">KF32</marc:subfield>\\n        <marc:subfield code=\"b\">.J8 2019u</marc:subfield>\\n      </marc:datafield>\\n      <marc:datafield tag=\"074\" ind1=\" \" ind2=\" \">\\n        <marc:subfield code=\"a\">1008-I (online)</marc:subfield>\\n      </marc:datafield>\\n      <marc:datafield tag=\"086\" ind1=\"0\" ind2=\" \">\\n        <marc:subfield code=\"a\">Y 1.1/8:116-267</marc:subfield>\\n      </marc:datafield>\\n      <marc:datafield tag=\"110\" ind1=\"1\" ind2=\" \">\\n        <marc:subfield code=\"a\">United States.</marc:subfield>\\n        <marc:subfield code=\"b\">Congress.</marc:subfield>\\n        <marc:subfield code=\"b\">House.</marc:subfield>\\n        <marc:subfield code=\"b\">Committee on the Judiciary,</marc:subfield>\\n        <marc:subfield code=\"e\">author.</marc:subfield>\\n      </marc:datafield>\\n      <marc:datafield tag=\"245\" ind1=\"1\" ind2=\"0\">\\n        <marc:subfield code=\"a\">Emmett Till Antilynching Act :</marc:subfield>\\n        <marc:subfield code=\"b\">report (to accompany H. R. 35).</marc:subfield>\\n      </marc:datafield>\\n      <marc:datafield tag=\"264\" ind1=\" \" ind2=\"1\">\\n        <marc:subfield code=\"a\">[Washington, D.C.] :</marc:subfield>\\n        <marc:subfield code=\"b\">[U. S. Government Publishing Office],</marc:subfield>\\n        <marc:subfield code=\"c\">[2019]</marc:subfield>\\n      </marc:datafield>\\n      <marc:datafield tag=\"300\" ind1=\" \" ind2=\" \">\\n        <marc:subfield code=\"a\">1 online resource (8 pages).</marc:subfield>\\n      </marc:datafield>\\n      <marc:datafield tag=\"336\" ind1=\" \" ind2=\" \">\\n        <marc:subfield code=\"a\">text</marc:subfield>\\n        <marc:subfield code=\"b\">txt</marc:subfield>\\n        <marc:subfield code=\"2\">rdacontent</marc:subfield>\\n      </marc:datafield>\\n      <marc:datafield tag=\"337\" ind1=\" \" ind2=\" \">\\n        <marc:subfield code=\"a\">computer</marc:subfield>\\n        <marc:subfield code=\"b\">c</marc:subfield>\\n        <marc:subfield code=\"2\">rdamedia</marc:subfield>\\n      </marc:datafield>\\n      <marc:datafield tag=\"338\" ind1=\" \" ind2=\" \">\\n        <marc:subfield code=\"a\">online resource</marc:subfield>\\n        <marc:subfield code=\"b\">cr</marc:subfield>\\n        <marc:subfield code=\"2\">rdacarrier</marc:subfield>\\n      </marc:datafield>\\n      <marc:datafield tag=\"490\" ind1=\"1\" ind2=\" \">\\n        <marc:subfield code=\"a\">\\n          Report / 116h Congress, 1st session, House of Representatives ;\\n        </marc:subfield>\\n        <marc:subfield code=\"v\">116-267</marc:subfield>\\n      </marc:datafield>\\n      <marc:datafield tag=\"588\" ind1=\" \" ind2=\" \">\\n        <marc:subfield code=\"a\">\\n          Description based on online resource; title from PDF title screen (govinfo web site, viewed on Nov. 7, 2019).\\n        </marc:subfield>\\n      </marc:datafield>\\n      <marc:datafield tag=\"500\" ind1=\" \" ind2=\" \">\\n        <marc:subfield code=\"a\">&quot;October 31, 2019.&quot;</marc:subfield>\\n      </marc:datafield>\\n      <marc:datafield tag=\"504\" ind1=\" \" ind2=\" \">\\n        <marc:subfield code=\"a\">Includes bibliographical references.</marc:subfield>\\n      </marc:datafield>\\n      <marc:datafield tag=\"650\" ind1=\" \" ind2=\"0\">\\n        <marc:subfield code=\"a\">Lynching</marc:subfield>\\n        <marc:subfield code=\"x\">Law and legislation</marc:subfield>\\n        <marc:subfield code=\"z\">United States.</marc:subfield>\\n      </marc:datafield>\\n      <marc:datafield tag=\"650\" ind1=\" \" ind2=\"0\">\\n        <marc:subfield code=\"a\">Hate crimes</marc:subfield>\\n        <marc:subfield code=\"x\">Law and legislation</marc:subfield>\\n        <marc:subfield code=\"z\">United States.</marc:subfield>\\n      </marc:datafield>\\n      <marc:datafield tag=\"655\" ind1=\" \" ind2=\"7\">\\n        <marc:subfield code=\"a\">Legislative materials.</marc:subfield>\\n        <marc:subfield code=\"2\">lcgft</marc:subfield>\\n      </marc:datafield>\\n      <marc:datafield tag=\"776\" ind1=\"0\" ind2=\"8\">\\n        <marc:subfield code=\"i\">Print version:</marc:subfield>\\n        <marc:subfield code=\"a\">\\n          United States. Congress. House. Committee on the Judiciary.\\n        </marc:subfield>\\n        <marc:subfield code=\"t\">Emmett Till Antilynching Act</marc:subfield>\\n        <marc:subfield code=\"w\">(OCoLC)1126666888</marc:subfield>\\n      </marc:datafield>\\n      <marc:datafield tag=\"810\" ind1=\"1\" ind2=\" \">\\n        <marc:subfield code=\"a\">United States.</marc:subfield>\\n        <marc:subfield code=\"b\">Congress.</marc:subfield>\\n        <marc:subfield code=\"b\">House.</marc:subfield>\\n        <marc:subfield code=\"t\">Report ;</marc:subfield>\\n        <marc:subfield code=\"v\">116-267.</marc:subfield>\\n      </marc:datafield>\\n      <marc:datafield tag=\"856\" ind1=\"4\" ind2=\"0\">\\n        <marc:subfield code=\"3\">PDF version:</marc:subfield>\\n        <marc:subfield code=\"u\">https://purl.fdlp.gov/GPO/gpo128188</marc:subfield>\\n      </marc:datafield>\\n      <marc:datafield tag=\"856\" ind1=\"4\" ind2=\"0\">\\n        <marc:subfield code=\"3\">Text version:</marc:subfield>\\n        <marc:subfield code=\"u\">https://purl.fdlp.gov/GPO/gpo128190</marc:subfield>\\n      </marc:datafield>\\n      <marc:datafield tag=\"856\" ind1=\"4\" ind2=\" \">\\n        <marc:subfield code=\"z\">Address at time of PURL creation</marc:subfield>\\n        <marc:subfield code=\"3\">PDF version</marc:subfield>\\n        <marc:subfield code=\"u\">\\n          https://www.govinfo.gov/content/pkg/CRPT-116hrpt267/pdf/CRPT-116hrpt267.pdf\\n        </marc:subfield>\\n      </marc:datafield>\\n      <marc:datafield tag=\"856\" ind1=\"4\" ind2=\" \">\\n        <marc:subfield code=\"z\">Address at time of PURL creation</marc:subfield>\\n        <marc:subfield code=\"3\">Text version</marc:subfield>\\n        <marc:subfield code=\"u\">\\n          https://www.govinfo.gov/content/pkg/CRPT-116hrpt267/html/CRPT-116hrpt267.htm\\n        </marc:subfield>\\n      </marc:datafield>\\n      <marc:datafield tag=\"856\" ind1=\" \" ind2=\" \">\\n        <marc:subfield code=\"3\">(online)</marc:subfield>\\n        <marc:subfield code=\"u\">\\n          https://catalog.gpo.gov/fdlpdir/locate.jsp?ItemNumber=1008-I&amp;SYS=001109560\\n        </marc:subfield>\\n      </marc:datafield>\\n      <marc:datafield tag=\"994\" ind1=\" \" ind2=\" \">\\n        <marc:subfield code=\"a\">C0</marc:subfield>\\n        <marc:subfield code=\"b\">GPO</marc:subfield>\\n      </marc:datafield>\\n      <marc:datafield tag=\"049\" ind1=\" \" ind2=\" \">\\n        <marc:subfield code=\"a\">XZL4</marc:subfield>\\n      </marc:datafield>\\n      <marc:datafield tag=\"955\" ind1=\" \" ind2=\" \">\\n        <marc:subfield code=\"a\">bca29 20191107</marc:subfield>\\n        <marc:subfield code=\"b\">20191107</marc:subfield>\\n      </marc:datafield>\\n</marc:record>\\n  </metadata>\\n</record>\\n'},\n",
       " u'provider': {u'@id': u'http://dp.la/api/contributor/gpo',\n",
       "  u'name': u'United States Government Publishing Office (GPO)'},\n",
       " u'sourceResource': {u'@id': u'http://dp.la/api/items/a034909614a958902175e02e0a305354#SourceResource',\n",
       "  u'creator': [u'United States. Congress. House. Committee on the Judiciary, author'],\n",
       "  u'date': [{u'displayDate': u'[2019]'}],\n",
       "  u'description': [u'Description based on online resource; title from PDF title screen (govinfo web site, viewed on Nov. 7, 2019).',\n",
       "   u'\"October 31, 2019.\"',\n",
       "   u'Includes bibliographical references.'],\n",
       "  u'extent': [u'1 online resource (8 pages).'],\n",
       "  u'format': [u'Language material',\n",
       "   u'Electronic resource',\n",
       "   u'Computer',\n",
       "   u'Online resource'],\n",
       "  u'identifier': [u'LC call number: KF32',\n",
       "   u'(OCoLC)1126666797',\n",
       "   u'1008-I (online)',\n",
       "   u'Y 1.1/8:116-267'],\n",
       "  u'publisher': [u'[Washington, D.C.] : [U. S. Government Publishing Office]'],\n",
       "  u'relation': [u'Report / 116h Congress, 1st session, House of Representatives ;. 116-267.',\n",
       "   u'Print version:. United States. Congress. House. Committee on the Judiciary. Emmett Till Antilynching Act. (OCoLC)1126666888.'],\n",
       "  u'rights': [u'Pursuant to Title 17 Section 105 of the United States Code, this file is not subject to copyright protection and is in the public domain. For more information please see http://www.gpo.gov/help/index.html#public_domain_copyright_notice.htm'],\n",
       "  u'spatial': [{u'name': u'United States'}],\n",
       "  u'subject': [{u'name': u'Lynching--Law and legislation--United States'},\n",
       "   {u'name': u'Hate crimes--Law and legislation--United States'}],\n",
       "  u'title': [u'Emmett Till Antilynching Act : report (to accompany H. R. 35)'],\n",
       "  u'type': [u'text']}}"
      ]
     },
     "execution_count": 8,
     "metadata": {},
     "output_type": "execute_result"
    }
   ],
   "source": [
    "da.all_returned_items[10]"
   ]
  },
  {
   "cell_type": "code",
   "execution_count": 3,
   "metadata": {
    "collapsed": false
   },
   "outputs": [
    {
     "data": {
      "text/plain": [
       "{'archive': '',\n",
       " 'creator': [u'United States. Federal Bureau of Investigation'],\n",
       " 'date': u'2004/2006',\n",
       " 'discipline': '',\n",
       " 'federation': 'SiRO',\n",
       " 'genre': 'none',\n",
       " 'id': u'http://dp.la/api/items/08063b7787e1e8ff5d865795e1367608',\n",
       " 'language': [],\n",
       " 'original_query': '\"emmett till\"',\n",
       " 'role': '',\n",
       " 'seeAlso': u'http://vault.fbi.gov/Emmett%20Till%20/',\n",
       " 'source': u'Digital Library of Georgia',\n",
       " 'subjects': [u'Governmental investigations--United States',\n",
       "  u'United States. Federal Bureau of Investigation',\n",
       "  u'African American youth--Violence against--Mississippi',\n",
       "  u'African Americans--Violence against--Mississippi--History--20th century',\n",
       "  u'African Americans--Mississippi',\n",
       "  u'Hate crimes--Mississippi',\n",
       "  u'Lynching--Mississippi--History--20th century',\n",
       "  u'Mississippi--Race relations',\n",
       "  u'Racism--Mississippi--History--20th century',\n",
       "  u'Trials (Murder)--Mississippi--Sumner',\n",
       "  u'Till, Emmett, 1941-1955--Death and burial',\n",
       "  u'Milam, J. W.--Trials, litigation, etc',\n",
       "  u'Bryant, Roy, 1931-1994--Trials, litigation, etc'],\n",
       " 'thumbnail': '',\n",
       " 'title': u'Emmett Till',\n",
       " 'type': [u'text']}"
      ]
     },
     "execution_count": 3,
     "metadata": {},
     "output_type": "execute_result"
    }
   ],
   "source": [
    "da.metadata_records[1]"
   ]
  },
  {
   "cell_type": "code",
   "execution_count": 1,
   "metadata": {
    "collapsed": false
   },
   "outputs": [
    {
     "data": {
      "text/plain": [
       "u'/Users/higgi135/Projects/dpla-api'"
      ]
     },
     "execution_count": 1,
     "metadata": {},
     "output_type": "execute_result"
    }
   ],
   "source": [
    "pwd\n"
   ]
  },
  {
   "cell_type": "code",
   "execution_count": null,
   "metadata": {
    "collapsed": true
   },
   "outputs": [],
   "source": []
  }
 ],
 "metadata": {
  "kernelspec": {
   "display_name": "Python 2",
   "language": "python",
   "name": "python2"
  },
  "language_info": {
   "codemirror_mode": {
    "name": "ipython",
    "version": 2
   },
   "file_extension": ".py",
   "mimetype": "text/x-python",
   "name": "python",
   "nbconvert_exporter": "python",
   "pygments_lexer": "ipython2",
   "version": "2.7.12"
  }
 },
 "nbformat": 4,
 "nbformat_minor": 0
}
