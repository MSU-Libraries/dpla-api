{
 "cells": [
  {
   "cell_type": "markdown",
   "metadata": {},
   "source": [
    "##DPLA API Interactions"
   ]
  },
  {
   "cell_type": "markdown",
   "metadata": {},
   "source": [
    "Code to interact with the DPLA API. Designed specifically to produce output suited to further, manual data entry, for eventual conversion to RDF according to the [Collex standard](http://wiki.collex.org/index.php/Main_Page)."
   ]
  },
  {
   "cell_type": "code",
   "execution_count": 1,
   "metadata": {
    "collapsed": false
   },
   "outputs": [
    {
     "name": "stdout",
     "output_type": "stream",
     "text": [
      "Query: abolitionists movements\n",
      "----Accessing results page 2\n",
      "----Accessing results page 3\n",
      "----Accessing results page 4\n",
      "----Accessing results page 5\n",
      "----Accessing results page 6\n",
      "----Accessing results page 7\n",
      "----Accessing results page 8\n",
      "----Accessing results page 9\n",
      "----Accessing results page 10\n",
      "----Accessing results page 11\n",
      "----Accessing results page 12\n",
      "----Accessing results page 13\n",
      "----Accessing results page 14\n",
      "----Accessing results page 15\n",
      "----Accessing results page 16\n",
      "----Accessing results page 17\n",
      "----Accessing results page 18\n",
      "Query 'abolitionists movements' returned 8884 records (Check: 8884 records transferred)\n"
     ]
    }
   ],
   "source": [
    "from dpla_api import DplaApi\n",
    "da = DplaApi()\n",
    "da.search(\"abolitionists movements\", page_size=500) # Run search, page_size is capped (by DPLA) at 500, but code will iterate through as many pages as necessary to gather all results.\n",
    "da.build_arc_rdf_dataset()"
   ]
  },
  {
   "cell_type": "code",
   "execution_count": 2,
   "metadata": {
    "collapsed": false
   },
   "outputs": [],
   "source": [
    "da.create_tsv() # create TSV results file."
   ]
  },
  {
   "cell_type": "markdown",
   "metadata": {},
   "source": [
    "A specific example of a series of searches drawing from a JSON list of terms."
   ]
  },
  {
   "cell_type": "code",
   "execution_count": null,
   "metadata": {
    "collapsed": false
   },
   "outputs": [],
   "source": [
    "from dpla_api import DplaApi\n",
    "da = DplaApi()\n",
    "import json\n",
    "with open(\"data/estc_subject_list_20150312.json\", \"r\") as estc_subjects:\n",
    "    subjects = json.load(estc_subjects)\n",
    "    for subject in subjects:\n",
    "        da.search(subject, page_size=500)\n",
    "        da.build_arc_rdf_dataset()\n",
    "    print \"Returned {0} total results\".format(len(da.metadata_records))\n",
    "da.create_tsv()"
   ]
  }
 ],
 "metadata": {
  "kernelspec": {
   "display_name": "Python 2",
   "language": "python",
   "name": "python2"
  },
  "language_info": {
   "codemirror_mode": {
    "name": "ipython",
    "version": 2
   },
   "file_extension": ".py",
   "mimetype": "text/x-python",
   "name": "python",
   "nbconvert_exporter": "python",
   "pygments_lexer": "ipython2",
   "version": "2.7.3"
  }
 },
 "nbformat": 4,
 "nbformat_minor": 0
}
