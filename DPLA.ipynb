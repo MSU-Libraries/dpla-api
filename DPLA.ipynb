{
 "cells": [
  {
   "cell_type": "markdown",
   "metadata": {},
   "source": [
    "## DPLA API Interactions"
   ]
  },
  {
   "cell_type": "markdown",
   "metadata": {},
   "source": [
    "Code to interact with the DPLA API. Designed specifically to produce output suited to further, manual data entry, for eventual conversion to RDF according to the [Collex standard](http://wiki.collex.org/index.php/Main_Page)."
   ]
  },
  {
   "cell_type": "code",
   "execution_count": 5,
   "metadata": {
    "collapsed": false,
    "scrolled": true
   },
   "outputs": [
    {
     "name": "stdout",
     "output_type": "stream",
     "text": [
      "Query: 'Godwin William 1756-1836' returned 570 results\n",
      "----Accessing results page 2\n",
      "----Check: 570 records transferred\n",
      "----Found: 0 existing RDF records\n",
      "----Saved: 570 new metadata records\n",
      "Completed writing data/radicalism-dpla-201603.tsv\n"
     ]
    }
   ],
   "source": [
    "from dpla_api import DplaApi\n",
    "da = DplaApi()\n",
    "# Run search, page_size is capped (by DPLA) at 500, but code will iterate through \n",
    "# as many pages as necessary to gather all results.\n",
    "da.search(\"Godwin, William, 1756-1836\", page_size=500) \n",
    "# All retrieved results will be stored in the da.metadata_records object.\n",
    "da.build_arc_rdf_dataset()\n",
    "da.create_tsv()"
   ]
  },
  {
   "cell_type": "markdown",
   "metadata": {},
   "source": [
    "The code below is an implementation for running a specific set of searches drawn from a json file."
   ]
  },
  {
   "cell_type": "code",
   "execution_count": 3,
   "metadata": {
    "collapsed": false
   },
   "outputs": [
    {
     "name": "stdout",
     "output_type": "stream",
     "text": [
      "Query: 'slave records' returned 1734 results\n",
      "----Accessing results page 2\n",
      "----Accessing results page 3\n",
      "----Accessing results page 4\n",
      "----Check: 1734 records transferred\n",
      "----Found: 1 existing RDF records\n",
      "----Saved: 1733 new metadata records\n",
      "Query: 'exiles' returned 690 results\n",
      "----Accessing results page 2\n",
      "----Check: 690 records transferred\n",
      "----Found: 1 existing RDF records\n",
      "----Saved: 689 new metadata records\n",
      "Query: 'abolitioniststs' returned 0 results\n",
      "Query: 'asceticism' returned 86 results\n",
      "----Check: 86 records transferred\n",
      "----Found: 0 existing RDF records\n",
      "----Saved: 86 new metadata records\n",
      "Query: 'protest poetry english' returned 9 results\n",
      "----Check: 9 records transferred\n",
      "----Found: 0 existing RDF records\n",
      "----Saved: 9 new metadata records\n",
      "Query: 'thirty years war 1618-1648' returned 448 results\n",
      "----Check: 448 records transferred\n",
      "----Found: 0 existing RDF records\n",
      "----Saved: 448 new metadata records\n",
      "Query: 'subversive activities' returned 300 results\n",
      "----Check: 300 records transferred\n",
      "----Found: 0 existing RDF records\n",
      "----Saved: 300 new metadata records\n",
      "Query: 'st. george's fields massacre of 1768' returned 0 results\n",
      "Query: 'anarchists' returned 307 results\n",
      "----Check: 307 records transferred\n",
      "----Found: 0 existing RDF records\n",
      "----Saved: 307 new metadata records\n",
      "Query: 'slavery in algeria' returned 14 results\n",
      "----Check: 14 records transferred\n",
      "----Found: 0 existing RDF records\n",
      "----Saved: 14 new metadata records\n",
      "Query: 'royalists' returned 65 results\n",
      "----Check: 65 records transferred\n",
      "----Found: 0 existing RDF records\n",
      "----Saved: 65 new metadata records\n",
      "Query: 'satire irish' returned 9 results\n",
      "----Check: 9 records transferred\n",
      "----Found: 0 existing RDF records\n",
      "----Saved: 9 new metadata records\n",
      "Query: 'feminism' returned 767 results\n",
      "----Accessing results page 2\n",
      "----Check: 767 records transferred\n",
      "----Found: 0 existing RDF records\n",
      "----Saved: 767 new metadata records\n",
      "Query: 'prohibition' returned 2702 results\n",
      "----Accessing results page 2\n",
      "----Accessing results page 3\n",
      "----Accessing results page 4\n",
      "----Accessing results page 5\n",
      "----Accessing results page 6\n",
      "----Check: 2702 records transferred\n",
      "----Found: 1 existing RDF records\n",
      "----Saved: 2701 new metadata records\n",
      "Query: 'martyrs' returned 1452 results\n",
      "----Accessing results page 2\n",
      "----Accessing results page 3\n",
      "----Check: 1452 records transferred\n",
      "----Found: 3 existing RDF records\n",
      "----Saved: 1449 new metadata records\n",
      "Query: 'french revolution 1795-1799 directoire' returned 12 results\n",
      "----Check: 12 records transferred\n",
      "----Found: 0 existing RDF records\n",
      "----Saved: 12 new metadata records\n",
      "Query: 'property and socialism' returned 59 results\n",
      "----Check: 59 records transferred\n",
      "----Found: 0 existing RDF records\n",
      "----Saved: 59 new metadata records\n",
      "Query: 'fries rebellion 1798-1799' returned 2 results\n",
      "----Check: 2 records transferred\n",
      "----Found: 0 existing RDF records\n",
      "----Saved: 2 new metadata records\n",
      "Query: 'dissidents religious' returned 11 results\n",
      "----Check: 11 records transferred\n",
      "----Found: 0 existing RDF records\n",
      "----Saved: 11 new metadata records\n",
      "Query: 'princeton battle of princeton n.j. 1777' returned 23 results\n",
      "----Check: 23 records transferred\n",
      "----Found: 0 existing RDF records\n",
      "----Saved: 23 new metadata records\n",
      "Query: 'restorations political' returned 3 results\n",
      "----Check: 3 records transferred\n",
      "----Found: 0 existing RDF records\n",
      "----Saved: 3 new metadata records\n",
      "Query: 'satire eglish' returned 0 results\n",
      "Query: 'dissent religious' returned 29 results\n",
      "----Check: 29 records transferred\n",
      "----Found: 2 existing RDF records\n",
      "----Saved: 27 new metadata records\n",
      "Query: 'quaker abolitionists' returned 33 results\n",
      "----Check: 33 records transferred\n",
      "----Found: 24 existing RDF records\n",
      "----Saved: 9 new metadata records\n",
      "Query: 'seneffe battle of seneffe belgium 1674' returned 0 results\n",
      "Query: 'epicureans greek philosophy' returned 15 results\n",
      "----Check: 15 records transferred\n",
      "----Found: 0 existing RDF records\n",
      "----Saved: 15 new metadata records\n",
      "Query: 'antislavery movements' returned 6643 results\n",
      "----Accessing results page 2\n",
      "----Accessing results page 3\n",
      "----Accessing results page 4\n",
      "----Accessing results page 5\n",
      "----Accessing results page 6\n",
      "----Accessing results page 7\n",
      "----Accessing results page 8\n",
      "----Accessing results page 9\n",
      "----Accessing results page 10\n",
      "----Accessing results page 11\n",
      "----Accessing results page 12\n",
      "----Accessing results page 13\n",
      "----Accessing results page 14\n",
      "----Check: 6643 records transferred\n",
      "----Found: 5150 existing RDF records\n",
      "----Saved: 1493 new metadata records\n",
      "Completed writing data/radicalism-dpla-201603.tsv\n"
     ]
    }
   ],
   "source": [
    "from dpla_api import DplaApi\n",
    "import json\n",
    "da = DplaApi()\n",
    "all_metadata = []\n",
    "search_file = \"data/dpla_subjects.json\"\n",
    "with open(search_file) as f:\n",
    "    search_terms = json.load(f)\n",
    "# Disciplines, in this case, is an extra data point useful for creating\n",
    "# the brand of RDF used in the SiRO project.\n",
    "for search_term, disciplines in search_terms.items():\n",
    "    if len(da.metadata_records) > 10000:\n",
    "        break\n",
    "    else:\n",
    "        da.search(search_term, page_size=500)\n",
    "        if da.result.count > 0:\n",
    "            da.build_arc_rdf_dataset(disciplines=disciplines)\n",
    "            # all_metadata += da.metadata_records\n",
    "# Create a TSV file of output for closer analysis / update of terms.\n",
    "da.create_tsv(records=da.metadata_records)"
   ]
  },
  {
   "cell_type": "markdown",
   "metadata": {
    "collapsed": false
   },
   "source": [
    "Once complete with any necessary changes, the tsv file can be used to create RDF records, 1 for each record."
   ]
  },
  {
   "cell_type": "code",
   "execution_count": 1,
   "metadata": {
    "collapsed": false,
    "scrolled": false
   },
   "outputs": [
    {
     "name": "stdout",
     "output_type": "stream",
     "text": [
      "Processing 10232 records...\n",
      "Processed 0 records\n",
      "Processed 500 records\n",
      "Processed 1000 records\n",
      "Processed 1500 records\n",
      "Processed 2000 records\n",
      "Processed 2500 records\n",
      "Processed 3000 records\n",
      "Processed 3500 records\n",
      "Processed 4000 records\n",
      "Processed 4500 records\n",
      "Processed 5000 records\n",
      "Processed 5500 records\n",
      "Processed 6000 records\n",
      "Processed 6500 records\n",
      "Processed 7000 records\n",
      "Processed 7500 records\n",
      "Processed 8000 records\n",
      "Processed 8500 records\n",
      "Processed 9000 records\n",
      "Processed 9500 records\n",
      "Processed 10000 records\n"
     ]
    }
   ],
   "source": [
    "from buildrdf import BuildRdf\n",
    "br = BuildRdf()\n",
    "br.build_rdf_from_tsv(\"data/radicalism-dpla-201603.tsv\")"
   ]
  },
  {
   "cell_type": "markdown",
   "metadata": {},
   "source": [
    "In order to make sure each successive bath of DPLA results doesn't simply reintroduce the results of any previous batches, there is a listing of all previously encountered results stored in a JSON file. An on-the-fly version is updated with searches as they complete, _however_ this cache should be cleared if these search results don't wind up making it into RDF records, by using the `reset_matches` parameter below."
   ]
  },
  {
   "cell_type": "code",
   "execution_count": 2,
   "metadata": {
    "collapsed": false
   },
   "outputs": [
    {
     "name": "stdout",
     "output_type": "stream",
     "text": [
      "Matching records: 0\n",
      "New records: 7986\n"
     ]
    }
   ],
   "source": [
    "from dpla_api import DplaApi\n",
    "da = DplaApi()\n",
    "da.update_rdf_registry(reset_matches=True)"
   ]
  },
  {
   "cell_type": "code",
   "execution_count": 4,
   "metadata": {
    "collapsed": false
   },
   "outputs": [],
   "source": [
    "# Build json file of search terms.\n",
    "import json\n",
    "subject_file = \"data/estc_subjects.tsv\"\n",
    "subject_dict = {}\n",
    "with open(subject_file) as f:\n",
    "    for line in f:\n",
    "        values = line.split(\"\\t\")\n",
    "        if values[1] == \"x\":\n",
    "            subject_dict[values[0]] = values[2]\n",
    "with open(\"data/dpla_subjects.json\", \"w\") as g:\n",
    "    json.dump(subject_dict, g)"
   ]
  },
  {
   "cell_type": "code",
   "execution_count": 3,
   "metadata": {
    "collapsed": false
   },
   "outputs": [
    {
     "data": {
      "text/plain": [
       "True"
      ]
     },
     "execution_count": 3,
     "metadata": {},
     "output_type": "execute_result"
    }
   ],
   "source": [
    "da._marc_record(da.all_returned_items[0])"
   ]
  },
  {
   "cell_type": "code",
   "execution_count": null,
   "metadata": {
    "collapsed": false
   },
   "outputs": [],
   "source": [
    "for item in da.all_returned_items:\n",
    "    if da._get_genre_from_marc(item) != \"none\":\n",
    "        print da._get_genre_from_marc(item)"
   ]
  }
 ],
 "metadata": {
  "kernelspec": {
   "display_name": "Python 2",
   "language": "python",
   "name": "python2"
  },
  "language_info": {
   "codemirror_mode": {
    "name": "ipython",
    "version": 2
   },
   "file_extension": ".py",
   "mimetype": "text/x-python",
   "name": "python",
   "nbconvert_exporter": "python",
   "pygments_lexer": "ipython2",
   "version": "2.7.3"
  }
 },
 "nbformat": 4,
 "nbformat_minor": 0
}
