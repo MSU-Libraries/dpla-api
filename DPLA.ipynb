{
 "cells": [
  {
   "cell_type": "markdown",
   "metadata": {},
   "source": [
    "##DPLA API Interactions"
   ]
  },
  {
   "cell_type": "markdown",
   "metadata": {},
   "source": [
    "Code to interact with the DPLA API. Designed specifically to produce output suited to further, manual data entry, for eventual conversion to RDF according to the [Collex standard](http://wiki.collex.org/index.php/Main_Page)."
   ]
  },
  {
   "cell_type": "code",
   "execution_count": 1,
   "metadata": {
    "collapsed": false,
    "scrolled": true
   },
   "outputs": [
    {
     "name": "stdout",
     "output_type": "stream",
     "text": [
      "Query: abolitionists movements\n",
      "----Accessing results page 2\n",
      "----Accessing results page 3\n",
      "----Accessing results page 4\n",
      "----Accessing results page 5\n",
      "----Accessing results page 6\n",
      "----Accessing results page 7\n",
      "----Accessing results page 8\n",
      "----Accessing results page 9\n",
      "----Accessing results page 10\n",
      "----Accessing results page 11\n",
      "----Accessing results page 12\n",
      "----Accessing results page 13\n",
      "----Accessing results page 14\n",
      "----Accessing results page 15\n",
      "----Accessing results page 16\n",
      "----Accessing results page 17\n",
      "----Accessing results page 18\n",
      "Query 'abolitionists movements' returned 8884 records (Check: 8884 records transferred)\n"
     ]
    }
   ],
   "source": [
    "from dpla_api import DplaApi\n",
    "da = DplaApi()\n",
    "da.search(\"abolitionists movements\", page_size=500) # Run search, page_size is capped (by DPLA) at 500, but code will iterate through as many pages as necessary to gather all results.\n",
    "da.build_arc_rdf_dataset()"
   ]
  },
  {
   "cell_type": "code",
   "execution_count": 2,
   "metadata": {
    "collapsed": false
   },
   "outputs": [],
   "source": [
    "da.create_tsv() # create TSV results file."
   ]
  },
  {
   "cell_type": "markdown",
   "metadata": {},
   "source": [
    "A specific example of a series of searches drawing from a JSON list of terms."
   ]
  },
  {
   "cell_type": "code",
   "execution_count": null,
   "metadata": {
    "collapsed": false
   },
   "outputs": [
    {
     "name": "stdout",
     "output_type": "stream",
     "text": [
      "Query: oil industries\n",
      "----Accessing results page 2"
     ]
    }
   ],
   "source": [
    "from dpla_api import DplaApi\n",
    "da = DplaApi()\n",
    "import json\n",
    "with open(\"data/estc_subject_list_20150312.json\", \"r\") as estc_subjects:\n",
    "    subjects = json.load(estc_subjects)\n",
    "    for subject in subjects:\n",
    "        da.search(subject, page_size=500)\n",
    "        da.build_arc_rdf_dataset()\n",
    "    print \"Returned {0} total results\".format(len(da.metadata_records))\n",
    "da.create_tsv()"
   ]
  },
  {
   "cell_type": "code",
   "execution_count": 1,
   "metadata": {
    "collapsed": false,
    "scrolled": false
   },
   "outputs": [
    {
     "name": "stdout",
     "output_type": "stream",
     "text": [
      "Processing http://dp.la/api/items/0daa0bab0c6c1b95c474af2de2ca0f6c : The abolitionists; a collection of their writing\n",
      "<rdf:RDF xmlns:rdfs=\"http://www.w3.org/2000/01/rdf-schema#\" xmlns:collex=\"http://www.collex.org/schema#\" xmlns:dc=\"http://purl.org/dc/elements/1.1/\" xmlns:sro=\"http://www.lib.msu.edu/sro/schema#\" xmlns:rdf=\"http://www.w3.org/1999/02/22-rdf-syntax-ns#\" xmlns:role=\"http://www.loc.gov/loc.terms/relators/\" xmlns:dcterms=\"http://purl.org/dc/terms/\">\n",
      "  <sro:dpla rdf:about=\"http://dp.la/api/items/0daa0bab0c6c1b95c474af2de2ca0f6c\">\n",
      "    <collex:federation>SRO</collex:federation>\n",
      "    <collex:archive>DPLA</collex:archive>\n",
      "    <dc:title>The abolitionists; a collection of their writing</dc:title>\n",
      "    <role:CRE>Ruchames, Louis, 1917-</role:CRE>\n",
      "    <dc:source>HathiTrust</dc:source>\n",
      "    <dc:subject>Antislavery movements--United States</dc:subject>\n",
      "    <dc:subject>Slavery--United States--Controversial literature</dc:subject>\n",
      "    <dc:subject>Abolitionists</dc:subject>\n",
      "    <collex:discipline>History</collex:discipline>\n",
      "    <collex:genre>Nonfiction</collex:genre>\n",
      "    <dc:type>Codex</dc:type>\n",
      "    <dc:date>\n",
      "      <collex:date>\n",
      "        <rdfs:label>[1963]</rdfs:label>\n",
      "        <rdf:value>1963</rdf:value>\n",
      "      </collex:date>\n",
      "    </dc:date>\n",
      "    <collex:fulltext>TRUE</collex:fulltext>\n",
      "    <dc:language>English</dc:language>\n",
      "    <rdfs:seeAlso rdf:resource=\"http://catalog.hathitrust.org/Record/000408823\"/>\n",
      "    <collex:thumbnail rdf:resource=\"https://books.google.com/books/content?id=9Ml2AAAAMAAJ&amp;printsec=frontcover&amp;img=1&amp;zoom=5\"/>\n",
      "  </sro:dpla>\n",
      "</rdf:RDF>\n",
      "\n",
      "Processing http://dp.la/api/items/64d7a574ffd7dc02db9dab4ab2fe53fd : To the Abolitionists of Massachusetts [manuscript]\n",
      "<rdf:RDF xmlns:rdfs=\"http://www.w3.org/2000/01/rdf-schema#\" xmlns:collex=\"http://www.collex.org/schema#\" xmlns:dc=\"http://purl.org/dc/elements/1.1/\" xmlns:sro=\"http://www.lib.msu.edu/sro/schema#\" xmlns:rdf=\"http://www.w3.org/1999/02/22-rdf-syntax-ns#\" xmlns:role=\"http://www.loc.gov/loc.terms/relators/\" xmlns:dcterms=\"http://purl.org/dc/terms/\">\n",
      "  <sro:dpla rdf:about=\"http://dp.la/api/items/64d7a574ffd7dc02db9dab4ab2fe53fd\">\n",
      "    <collex:federation>SRO</collex:federation>\n",
      "    <collex:archive>DPLA</collex:archive>\n",
      "    <dc:title>To the Abolitionists of Massachusetts [manuscript]</dc:title>\n",
      "    <role:CRE>Massachusetts Abolition Society. Executive Committee</role:CRE>\n",
      "    <role:CRE>Phelps, Amos A. (Amos Augustus), 1805-1847</role:CRE>\n",
      "    <dc:source>Internet Archive</dc:source>\n",
      "    <dc:subject>Phelps, Amos A. (Amos Augustus), 1805-1847</dc:subject>\n",
      "    <dc:subject>Massachusetts Abolition Society</dc:subject>\n",
      "    <dc:subject>Antislavery movements</dc:subject>\n",
      "    <dc:subject>Abolitionists</dc:subject>\n",
      "    <collex:discipline>History</collex:discipline>\n",
      "    <collex:genre>Nonfiction</collex:genre>\n",
      "    <dc:type>Manuscript</dc:type>\n",
      "    <dc:date>1844</dc:date>\n",
      "    <collex:fulltext>TRUE</collex:fulltext>\n",
      "    <dc:language>English</dc:language>\n",
      "    <rdfs:seeAlso rdf:resource=\"http://archive.org/details/toabolitionistso00mass\"/>\n",
      "  </sro:dpla>\n",
      "</rdf:RDF>\n",
      "\n",
      "Processing http://dp.la/api/items/4bdf089f8d273ea0265acffa74832071 : [Letter to] To the Abolitionists of Great Britain [manuscript]\n",
      "<rdf:RDF xmlns:rdfs=\"http://www.w3.org/2000/01/rdf-schema#\" xmlns:collex=\"http://www.collex.org/schema#\" xmlns:dc=\"http://purl.org/dc/elements/1.1/\" xmlns:sro=\"http://www.lib.msu.edu/sro/schema#\" xmlns:rdf=\"http://www.w3.org/1999/02/22-rdf-syntax-ns#\" xmlns:role=\"http://www.loc.gov/loc.terms/relators/\" xmlns:dcterms=\"http://purl.org/dc/terms/\">\n",
      "  <sro:dpla rdf:about=\"http://dp.la/api/items/4bdf089f8d273ea0265acffa74832071\">\n",
      "    <collex:federation>SRO</collex:federation>\n",
      "    <collex:archive>DPLA</collex:archive>\n",
      "    <dc:title>[Letter to] To the Abolitionists of Great Britain [manuscript]</dc:title>\n",
      "    <role:CRE>American Anti-Slavery Society</role:CRE>\n",
      "    <role:CRE>Garrison, William Lloyd, 1805-1879, recipient</role:CRE>\n",
      "    <dc:source>Internet Archive</dc:source>\n",
      "    <dc:subject>Garrison, William Lloyd, 1805-1879</dc:subject>\n",
      "    <dc:subject>Gibbons, J. S. (James Sloan), 1810-1892</dc:subject>\n",
      "    <dc:subject>Collins, John A. (John Anderson), 1810-1879</dc:subject>\n",
      "    <dc:subject>Van Buren, Martin, 1782-1862</dc:subject>\n",
      "    <dc:subject>Harrison, William Henry, 1773-1841</dc:subject>\n",
      "    <dc:subject>Smith, Gerrit, 1797-1874</dc:subject>\n",
      "    <dc:subject>Grimke, Angelina Emily, 1805-1879</dc:subject>\n",
      "    <dc:subject>Grimke, Sarah Moore, 1792-1873</dc:subject>\n",
      "    <dc:subject>Jackson, Francis, 1789-1861</dc:subject>\n",
      "    <dc:subject>American Anti-Slavery Society</dc:subject>\n",
      "    <dc:subject>American and Foreign Anti-Slavery Society</dc:subject>\n",
      "    <dc:subject>Massachusetts Anti-Slavery Society. Executive Committee</dc:subject>\n",
      "    <dc:subject>Antislavery movements</dc:subject>\n",
      "    <dc:subject>Abolitionists</dc:subject>\n",
      "    <dc:subject>Social reformers</dc:subject>\n",
      "    <dc:subject>Presidents</dc:subject>\n",
      "    <dc:subject>Sex discrimination</dc:subject>\n",
      "    <dc:subject>Women's rights</dc:subject>\n",
      "    <dc:subject>Women</dc:subject>\n",
      "    <dc:subject>Women abolitionists</dc:subject>\n",
      "    <collex:discipline>History</collex:discipline>\n",
      "    <collex:genre>Correspondence</collex:genre>\n",
      "    <collex:genre>Nonfiction</collex:genre>\n",
      "    <dc:type>Manuscript</dc:type>\n",
      "    <dc:date>Uncertain</dc:date>\n",
      "    <collex:fulltext>TRUE</collex:fulltext>\n",
      "    <dc:language>English</dc:language>\n",
      "    <rdfs:seeAlso rdf:resource=\"http://archive.org/details/lettertotoabolit00amer\"/>\n",
      "  </sro:dpla>\n",
      "</rdf:RDF>\n",
      "\n"
     ]
    }
   ],
   "source": [
    "from buildrdf import BuildRdf\n",
    "br = BuildRdf()\n",
    "br.build_rdf_from_tsv(\"data/radicalism-all-dpla.txt\", lines_to_process = 3)"
   ]
  },
  {
   "cell_type": "code",
   "execution_count": null,
   "metadata": {
    "collapsed": true
   },
   "outputs": [],
   "source": []
  }
 ],
 "metadata": {
  "kernelspec": {
   "display_name": "Python 2",
   "language": "python",
   "name": "python2"
  },
  "language_info": {
   "codemirror_mode": {
    "name": "ipython",
    "version": 2
   },
   "file_extension": ".py",
   "mimetype": "text/x-python",
   "name": "python",
   "nbconvert_exporter": "python",
   "pygments_lexer": "ipython2",
   "version": "2.7.3"
  }
 },
 "nbformat": 4,
 "nbformat_minor": 0
}
